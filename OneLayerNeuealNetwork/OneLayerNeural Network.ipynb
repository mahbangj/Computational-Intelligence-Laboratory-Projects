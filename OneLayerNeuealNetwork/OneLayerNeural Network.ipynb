{
  "nbformat": 4,
  "nbformat_minor": 0,
  "metadata": {
    "colab": {
      "name": "CISLab_HW1.ipynb",
      "provenance": []
    },
    "kernelspec": {
      "name": "python3",
      "display_name": "Python 3"
    },
    "language_info": {
      "name": "python"
    }
  },
  "cells": [
    {
      "cell_type": "code",
      "metadata": {
        "colab": {
          "base_uri": "https://localhost:8080/"
        },
        "id": "n-QblOQ9JWFO",
        "outputId": "bba5b460-812b-433a-a942-fdec3008e8e4"
      },
      "source": [
        "import sys\n",
        "import numpy as np\n",
        "import matplotlib.pyplot as plt\n",
        "import random\n",
        "\n",
        "def activation_function(x):\n",
        "    if x >= 0:\n",
        "        return 1\n",
        "    elif x < 0:\n",
        "        return 0\n",
        "\n",
        "\n",
        "class SLP:\n",
        "\n",
        "  def __init__(self,x,y,learning_rate = 0.1):\n",
        "    self.x = x\n",
        "    self.y = y\n",
        "    self.learning_rate = learning_rate\n",
        "\n",
        "\n",
        "  def fit(self):\n",
        "\n",
        "    l = np.ones((self.x.shape[0],1))\n",
        "    self.x = np.hstack((l,x)) \n",
        "\n",
        "    weights = []\n",
        "    n = 10 \n",
        "    self.Test_setLength = self.x.shape[0]\n",
        "\n",
        "    # initialize with 3 random weights between 0 and 1, one for each input and one for the bias\n",
        "    for i in range(self.x.shape[1]):\n",
        "        weights.append(random.uniform(0, 1))\n",
        "\n",
        "    self.pred = np.array([])\n",
        "    for i in range(self.Test_setLength):\n",
        "      self.pred = np.append(self.pred, 0)\n",
        "\n",
        "    for i in range(n):\n",
        "      for j in range(self.Test_setLength):\n",
        "        inputs = self.x[j,:]\n",
        "        expected_output = self.y[j]\n",
        "        net = np.dot(inputs, weights)\n",
        "        self.pred[j] = activation_function(net) \n",
        "        error = expected_output - self.pred[j]\n",
        "        weights += self.learning_rate * error * np.asarray(inputs) \n",
        "\n",
        "    line_x = [0 , 1]\n",
        "    line_y = [-weights[0]/weights[2] , -weights[0]/weights[2] - weights[1]/weights[2]]\n",
        "\n",
        "\n",
        "  def predict(self):\n",
        "    predict = []\n",
        "    for i in range(self.Test_setLength):\n",
        "       predict.append(self.pred[i])\n",
        "    print('predict: ', predict)\n",
        "\n",
        "\n",
        "  def evaluate(self):\n",
        "    print('inputs\\t\\ttarget\\t\\tpredict')\n",
        "    e = 0\n",
        "    for i in range(self.Test_setLength):\n",
        "      print(x[i, :], '\\t\\t',y[i], '\\t\\t', int(self.pred[i]))\n",
        "      if y[i] != self.pred[i]:\n",
        "        e += 1\n",
        "    accuracy = ((self.Test_setLength - e)/self.Test_setLength)*100\n",
        "    print('accuracy:', int(accuracy), '%')\n",
        "    \n",
        "\n",
        "\n",
        "  \n",
        "\n",
        "x = np.array([[0,0],[0,1],[1,0],[1,1]])\n",
        "y = np.array([[0],[1],[1],[1]])\n",
        "\n",
        "\n",
        "my_slp = SLP(x,y,0.3)\n",
        "my_slp.fit()\n",
        "my_slp.predict()\n",
        "my_slp.evaluate()\n",
        "\n"
      ],
      "execution_count": 14,
      "outputs": [
        {
          "output_type": "stream",
          "name": "stdout",
          "text": [
            "predict:  [0.0, 1.0, 1.0, 1.0]\n",
            "inputs\t\ttarget\t\tpredict\n",
            "[0 0] \t\t [0] \t\t 0\n",
            "[0 1] \t\t [1] \t\t 1\n",
            "[1 0] \t\t [1] \t\t 1\n",
            "[1 1] \t\t [1] \t\t 1\n",
            "accuracy: 100 %\n"
          ]
        }
      ]
    }
  ]
}